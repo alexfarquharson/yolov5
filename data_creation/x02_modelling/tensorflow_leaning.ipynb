{
 "cells": [
  {
   "cell_type": "code",
   "execution_count": 1,
   "metadata": {},
   "outputs": [
    {
     "name": "stdout",
     "output_type": "stream",
     "text": [
      "TensorFlow version: 2.8.0\n"
     ]
    }
   ],
   "source": [
    "import tensorflow as tf\n",
    "from tensorflow import keras\n",
    "from tensorflow.keras import layers\n",
    "\n",
    "print(\"TensorFlow version:\", tf.__version__)"
   ]
  },
  {
   "cell_type": "code",
   "execution_count": 2,
   "metadata": {},
   "outputs": [
    {
     "name": "stdout",
     "output_type": "stream",
     "text": [
      "Downloading data from https://storage.googleapis.com/tensorflow/tf-keras-datasets/mnist.npz\n",
      "11493376/11490434 [==============================] - 3s 0us/step\n",
      "11501568/11490434 [==============================] - 3s 0us/step\n"
     ]
    }
   ],
   "source": [
    "# get data\n",
    "mnist = tf.keras.datasets.mnist\n",
    "\n",
    "(x_train, y_train), (x_test, y_test) = mnist.load_data()\n",
    "x_train, x_test = x_train / 255.0, x_test / 255.0"
   ]
  },
  {
   "cell_type": "code",
   "execution_count": 3,
   "metadata": {},
   "outputs": [
    {
     "name": "stdout",
     "output_type": "stream",
     "text": [
      "Epoch 1/5\n",
      "1875/1875 [==============================] - 13s 6ms/step - loss: 0.2989 - accuracy: 0.9129\n",
      "Epoch 2/5\n",
      "1875/1875 [==============================] - 7s 4ms/step - loss: 0.1446 - accuracy: 0.9584\n",
      "Epoch 3/5\n",
      "1875/1875 [==============================] - 5s 3ms/step - loss: 0.1080 - accuracy: 0.9672\n",
      "Epoch 4/5\n",
      "1875/1875 [==============================] - 6s 3ms/step - loss: 0.0890 - accuracy: 0.9717\n",
      "Epoch 5/5\n",
      "1875/1875 [==============================] - 5s 3ms/step - loss: 0.0751 - accuracy: 0.9762\n",
      "313/313 - 1s - loss: 0.0727 - accuracy: 0.9776 - 1s/epoch - 4ms/step\n",
      "tf.Tensor(\n",
      "[[1.11906955e-08 1.40325298e-08 1.29028024e-06 5.12679362e-05\n",
      "  1.09323228e-11 3.28962457e-08 3.96292665e-14 9.99941468e-01\n",
      "  9.07483511e-09 5.91454045e-06]\n",
      " [2.25674892e-08 1.94289278e-05 9.99914885e-01 6.47195047e-05\n",
      "  1.15394581e-15 9.34305660e-07 1.15410845e-08 3.18023306e-15\n",
      "  1.70287926e-08 4.96909100e-13]\n",
      " [3.38532459e-07 9.98895764e-01 2.61601497e-04 5.59765685e-05\n",
      "  1.59010069e-05 3.87090495e-06 9.37509321e-06 3.65400716e-04\n",
      "  3.90197732e-04 1.43210923e-06]\n",
      " [9.99975204e-01 9.28560289e-13 1.37404550e-06 6.26760084e-08\n",
      "  9.99363365e-08 2.02178086e-07 1.28789025e-05 1.01343790e-06\n",
      "  1.38652556e-08 9.02940064e-06]\n",
      " [8.26645919e-06 2.65556399e-09 2.54704773e-05 2.19828493e-08\n",
      "  9.75412607e-01 3.15025552e-08 3.10107134e-05 1.05294079e-04\n",
      "  5.57361375e-07 2.44166590e-02]], shape=(5, 10), dtype=float32)\n",
      "tf.Tensor(\n",
      "[[ -6.678953    -6.4526577   -1.9314213    1.7507852  -13.610066\n",
      "   -5.600677   -19.229979    11.629171    -6.8885307   -0.40886733]\n",
      " [ -3.7993233    2.9586842   13.807346     4.1619835  -20.588158\n",
      "   -0.07603072  -4.4699206  -19.574392    -4.0809283  -14.522938  ]\n",
      " [ -8.086244     6.811298    -1.4362854   -2.9781744   -4.236725\n",
      "   -5.6496196   -4.7650514   -1.1021131   -1.0364543   -6.6439595 ]\n",
      " [ 10.773041   -16.932076    -2.7246854   -5.8122225   -5.3456664\n",
      "   -4.6410513   -0.48685429  -3.0290966   -7.3208137   -0.8419588 ]\n",
      " [ -3.0491197  -11.092424    -1.9238065   -8.978819     8.62929\n",
      "   -8.619013    -1.7269936   -0.5045689   -5.7458677    4.9416947 ]], shape=(5, 10), dtype=float32)\n"
     ]
    }
   ],
   "source": [
    "# create model structure (just specify the output shape)\n",
    "model = tf.keras.models.Sequential([\n",
    "  tf.keras.layers.Flatten(input_shape=(28, 28)),\n",
    "  tf.keras.layers.Dense(128, activation='relu'),\n",
    "  tf.keras.layers.Dropout(0.2),\n",
    "  tf.keras.layers.Dense(10)\n",
    "  # nb that softmax function not employed in model itself as no numerically stable loss calculation for all models when using a softmax output.\n",
    "])\n",
    "\n",
    "\n",
    "\n",
    "\n",
    "\n",
    "# create loss function. Takes the output of the final layer (10 shaped tensor of logits) and the true class and returns negative log prob\n",
    "loss_fn = tf.keras.losses.SparseCategoricalCrossentropy(from_logits=True)\n",
    "\n",
    "# set the evalutaion function to accuracy\n",
    "model.compile(optimizer='adam',\n",
    "              loss=loss_fn,\n",
    "              metrics=['accuracy'])\n",
    "\n",
    "# train model\n",
    "model.fit(x_train, y_train, epochs=5)\n",
    "\n",
    "# evaluate model\n",
    "model.evaluate(x_test,  y_test, verbose=2)\n",
    "\n",
    "# package in softmax func no wthat model is trained\n",
    "probability_model = tf.keras.Sequential([\n",
    "  model,\n",
    "  tf.keras.layers.Softmax()\n",
    "])\n",
    "\n",
    "print(probability_model(x_test[:5]))\n",
    "\n",
    "print(model(x_test[:5]))"
   ]
  },
  {
   "cell_type": "code",
   "execution_count": 24,
   "metadata": {},
   "outputs": [
    {
     "name": "stdout",
     "output_type": "stream",
     "text": [
      "Model: \"sequential_20\"\n",
      "_________________________________________________________________\n",
      " Layer (type)                Output Shape              Param #   \n",
      "=================================================================\n",
      " conv2d_16 (Conv2D)          (None, 14, 14, 32)        896       \n",
      "                                                                 \n",
      " batch_normalization_3 (Batc  (None, 14, 14, 32)       128       \n",
      " hNormalization)                                                 \n",
      "                                                                 \n",
      " leaky_re_lu_3 (LeakyReLU)   (None, 14, 14, 32)        0         \n",
      "                                                                 \n",
      " max_pooling2d_13 (MaxPoolin  (None, 13, 13, 32)       0         \n",
      " g2D)                                                            \n",
      "                                                                 \n",
      " reshape_2 (Reshape)         (None, 26, 13, 16)        0         \n",
      "                                                                 \n",
      " lambda (Lambda)             (None, 26, 13, 16)        0         \n",
      "                                                                 \n",
      "=================================================================\n",
      "Total params: 1,024\n",
      "Trainable params: 960\n",
      "Non-trainable params: 64\n",
      "_________________________________________________________________\n"
     ]
    }
   ],
   "source": [
    "model2 = keras.Sequential()\n",
    "# Initialise input shape (best to do so if you know it)\n",
    "model2.add(keras.Input(shape = (28,28, 3)))\n",
    "\n",
    "# Conv layer\n",
    "number_filters = 32\n",
    "kernel_size = 3 # 3x3\n",
    "strides = (2,2) # 2 across, 2 down\n",
    "model2.add(layers.Conv2D(number_filters, kernel_size, strides=strides, padding = 'same'))\n",
    "# 14,14,32\n",
    "\n",
    "# BatchNormalization\n",
    "#  gamma * (batch - mean(batch)) / sqrt(var(batch) + epsilon) + beta (gamma learnt scaling factor, epsilon small configurable constant, beta learnt offset factor)\n",
    "model2.add(layers.BatchNormalization(scale = True))\n",
    "# 14,14,32\n",
    "\n",
    "# LeakyReLu\n",
    "#   f(x) = alpha * x if x < 0\n",
    "#   f(x) = x if x >= 0\n",
    "model2.add(layers.LeakyReLU(alpha = 0.3))\n",
    "# 14,14,32\n",
    "\n",
    "# Max pooling layer\n",
    "model2.add(layers.MaxPool2D(pool_size = (2,2), strides = (1,1), padding = 'valid'))\n",
    "# 13,13,32\n",
    "\n",
    "# Reshape (Must be broadcastable)\n",
    "model2.add(layers.Reshape(target_shape=(26,13,16)))\n",
    "\n",
    "# lambda - some custom function\n",
    "model2.add(layers.Lambda(lambda x: x**2))\n",
    "\n",
    "\n",
    "\n",
    "\n",
    "\n",
    "\n",
    "model2.summary()"
   ]
  },
  {
   "cell_type": "code",
   "execution_count": 9,
   "metadata": {},
   "outputs": [
    {
     "data": {
      "text/plain": [
       "keras.layers.convolutional.Conv2D"
      ]
     },
     "execution_count": 9,
     "metadata": {},
     "output_type": "execute_result"
    }
   ],
   "source": [
    "layers.Conv2D()"
   ]
  },
  {
   "cell_type": "code",
   "execution_count": 15,
   "metadata": {},
   "outputs": [
    {
     "name": "stdout",
     "output_type": "stream",
     "text": [
      "Model: \"sequential_11\"\n",
      "_________________________________________________________________\n",
      " Layer (type)                Output Shape              Param #   \n",
      "=================================================================\n",
      " conv2d_6 (Conv2D)           (None, 123, 123, 32)      2432      \n",
      "                                                                 \n",
      " conv2d_7 (Conv2D)           (None, 121, 121, 32)      9248      \n",
      "                                                                 \n",
      " max_pooling2d_5 (MaxPooling  (None, 40, 40, 32)       0         \n",
      " 2D)                                                             \n",
      "                                                                 \n",
      "=================================================================\n",
      "Total params: 11,680\n",
      "Trainable params: 11,680\n",
      "Non-trainable params: 0\n",
      "_________________________________________________________________\n"
     ]
    }
   ],
   "source": [
    "model = keras.Sequential()\n",
    "model.add(keras.Input(shape=(250, 250, 3)))  # 250x250 RGB images\n",
    "model.add(layers.Conv2D(32, 5, strides=2, activation=\"relu\"))\n",
    "model.add(layers.Conv2D(32, 3, activation=\"relu\"))\n",
    "model.add(layers.MaxPooling2D(3))\n",
    "\n",
    "model.summary()"
   ]
  },
  {
   "cell_type": "code",
   "execution_count": null,
   "metadata": {},
   "outputs": [],
   "source": []
  }
 ],
 "metadata": {
  "kernelspec": {
   "display_name": "base",
   "language": "python",
   "name": "python3"
  },
  "language_info": {
   "codemirror_mode": {
    "name": "ipython",
    "version": 3
   },
   "file_extension": ".py",
   "mimetype": "text/x-python",
   "name": "python",
   "nbconvert_exporter": "python",
   "pygments_lexer": "ipython3",
   "version": "3.9.7"
  },
  "orig_nbformat": 4
 },
 "nbformat": 4,
 "nbformat_minor": 2
}
